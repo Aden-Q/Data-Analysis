{
 "cells": [
  {
   "cell_type": "code",
   "execution_count": 1,
   "metadata": {},
   "outputs": [],
   "source": [
    "import matplotlib.pyplot as plt\n",
    "# %matplotlib inline"
   ]
  },
  {
   "cell_type": "code",
   "execution_count": 72,
   "metadata": {},
   "outputs": [
    {
     "data": {
      "text/plain": [
       "[<matplotlib.lines.Line2D at 0x11def86d8>]"
      ]
     },
     "execution_count": 72,
     "metadata": {},
     "output_type": "execute_result"
    },
    {
     "data": {
      "image/png": "[encoded data removed]",
      "text/plain": [
       "<Figure size 432x288 with 1 Axes>"
      ]
     },
     "metadata": {
      "needs_background": "light"
     },
     "output_type": "display_data"
    }
   ],
   "source": [
    "f = open(\"train.txt\", \"r\")\n",
    "l = []\n",
    "while True:\n",
    "    num = f.readline().strip()\n",
    "    if not num:\n",
    "        break\n",
    "    num = float(num)\n",
    "    l.append(num)\n",
    "\n",
    "plt.plot(range(len(l)), l)\n",
    "# plt.show()\n",
    "# plt.savefig(\"accuracy_train.png\")"
   ]
  },
  {
   "cell_type": "code",
   "execution_count": 73,
   "metadata": {},
   "outputs": [
    {
     "data": {
      "text/plain": [
       "[<matplotlib.lines.Line2D at 0x11d85f550>]"
      ]
     },
     "execution_count": 73,
     "metadata": {},
     "output_type": "execute_result"
    },
    {
     "data": {
      "image/png": "[encoded data removed]",
      "text/plain": [
       "<Figure size 432x288 with 1 Axes>"
      ]
     },
     "metadata": {
      "needs_background": "light"
     },
     "output_type": "display_data"
    }
   ],
   "source": [
    "f = open(\"test.txt\", \"r\")\n",
    "l = []\n",
    "while True:\n",
    "    num = f.readline().strip()\n",
    "    if not num:\n",
    "        break\n",
    "    num = float(num)\n",
    "    l.append(num)\n",
    "\n",
    "plt.plot(range(len(l)), l)"
   ]
  },
  {
   "cell_type": "code",
   "execution_count": null,
   "metadata": {},
   "outputs": [],
   "source": []
  },
  {
   "cell_type": "code",
   "execution_count": 16,
   "metadata": {},
   "outputs": [],
   "source": [
    "import pandas as pd\n",
    "import numpy as np"
   ]
  },
  {
   "cell_type": "code",
   "execution_count": 17,
   "metadata": {},
   "outputs": [],
   "source": [
    "df_train = pd.read_csv('/Users/qianzecheng/Downloads/contest/train.csv')"
   ]
  },
  {
   "cell_type": "code",
   "execution_count": 18,
   "metadata": {},
   "outputs": [],
   "source": [
    "def feature_normalize(dataset):\n",
    "    '''\n",
    "    特征均一化\n",
    "    '''\n",
    "    mu = np.mean(dataset,axis=0)\n",
    "    sigma = np.std(dataset,axis=0)\n",
    "    return (dataset - mu)/sigma\n",
    "\n",
    "def str_to_int(df):\n",
    "    str_columns = df.select_dtypes(['object']).columns\n",
    "    print(str_columns)\n",
    "    for col in str_columns:\n",
    "        df[col] = df[col].astype('category')\n",
    "\n",
    "    cat_columns = df.select_dtypes(['category']).columns\n",
    "    df[cat_columns] = df[cat_columns].apply(lambda x: x.cat.codes)\n",
    "    return df\n",
    "\n",
    "def count_space_except_nan(x):\n",
    "    if isinstance(x,str):\n",
    "        return x.count(\" \") + 1\n",
    "    else :\n",
    "        return 0\n",
    "    \n",
    "def one_hot(df, cols):\n",
    "    \"\"\"\n",
    "    @param df pandas DataFrame\n",
    "    @param cols a list of columns to encode \n",
    "    @return a DataFrame with one-hot encoding\n",
    "    \"\"\"\n",
    "    for each in cols:\n",
    "        dummies = pd.get_dummies(df[each], prefix=each, drop_first=False)\n",
    "        del df[each]\n",
    "        df = pd.concat([df, dummies], axis=1)\n",
    "    return df\n",
    "\n",
    "def pre_processing(df):\n",
    "    # df.drop(delete_columns, axis=1, inplace=True)\n",
    "    # Count room nubmer\n",
    "    # df_train[\"Cabin\"] = df_train[\"Cabin\"].apply(count_space_except_nan)\n",
    "    # Replace NaN with mean value\n",
    "    df[\"DistanceFromHome\"].fillna(df[\"DistanceFromHome\"].mean(), inplace=True)\n",
    "    df[\"LastYearTrainingTime\"].fillna(df[\"LastYearTrainingTime\"].mean(), inplace=True)\n",
    "    # EducationLevel, Embarked one-hot\n",
    "    # df = one_hot(df, df.loc[:, [\"EducationLevel\"]].columns)\n",
    "    # df = one_hot(df, df.loc[:, [\"EducationField\"]].columns)\n",
    "    # df = one_hot(df, df.loc[:, [\"Travel_For_Business\"]].columns)\n",
    "    # df = one_hot(df, df.loc[:, [\"MaritalStatus\"]].columns)\n",
    "    # df = one_hot(df, df.loc[:, [\"EnvironmentSatisfaction\"]].columns)\n",
    "    # df = one_hot(df, df.loc[:, [\"JobInvolvement\"]].columns)\n",
    "    # df = one_hot(df, df.loc[:, [\"JobSatisfaction\"]].columns)\n",
    "    # df = one_hot(df, df.loc[:, [\"PerformanceRating\"]].columns)\n",
    "    # df = one_hot(df, df.loc[:, [\"RelationshipSatisfaction\"]].columns)\n",
    "    # df = one_hot(df, df.loc[:, [\"WorkLifeBalance\"]].columns)\n",
    "    # df = one_hot(df, df.loc[:, [\"JobLevel\"]].columns)\n",
    "    # df = one_hot(df, df.loc[:, [\"JobRole\"]].columns)\n",
    "    # df = one_hot(df, df.loc[:, [\"StockOptionLevel\"]].columns)\n",
    "    \n",
    "    \n",
    "    \n",
    "    # String to int\n",
    "    df = str_to_int(df)\n",
    "    # Age Normalization\n",
    "    \n",
    "    df[\"EducationLevel\"] = feature_normalize(df[\"EducationLevel\"])\n",
    "    df[\"EducationField\"] = feature_normalize(df[\"EducationField\"])\n",
    "    df[\"Travel_For_Business\"] = feature_normalize(df[\"Travel_For_Business\"])\n",
    "    df[\"MaritalStatus\"] = feature_normalize(df[\"MaritalStatus\"])\n",
    "    df[\"EnvironmentSatisfaction\"] = feature_normalize(df[\"EnvironmentSatisfaction\"])\n",
    "    df[\"JobInvolvement\"] = feature_normalize(df[\"JobInvolvement\"])\n",
    "    # df[\"JobSatisfaction\"] = feature_normalize(df[\"JobSatisfaction\"])\n",
    "    df[\"RelationshipSatisfaction\"] = feature_normalize(df[\"RelationshipSatisfaction\"])\n",
    "    # df[\"WorkLifeBalance\"] = feature_normalize(df[\"WorkLifeBalance\"])\n",
    "    df[\"JobLevel\"] = feature_normalize(df[\"JobLevel\"])\n",
    "    df[\"JobRole\"] = feature_normalize(df[\"JobRole\"])\n",
    "    df[\"StockOptionLevel\"] = feature_normalize(df[\"StockOptionLevel\"])\n",
    "    \n",
    "    \n",
    "    df[\"DailyRate\"] = feature_normalize(df[\"DailyRate\"])\n",
    "    df[\"HourlyRate\"] = feature_normalize(df[\"HourlyRate\"])\n",
    "    df[\"MonthlyRate\"] = feature_normalize(df[\"MonthlyRate\"])\n",
    "    df[\"Age\"] = feature_normalize(df[\"Age\"])\n",
    "    df[\"DistanceFromHome\"] = feature_normalize(df[\"DistanceFromHome\"])\n",
    "    df[\"PercentSalaryHike\"] = feature_normalize(df[\"PercentSalaryHike\"])\n",
    "    df[\"YearsAtCompany\"] = feature_normalize(df[\"YearsAtCompany\"])\n",
    "    #df[\"YearsWithCurrManager\"] = feature_normalize(df[\"YearsWithCurrManager\"])\n",
    "    df[\"YearsSinceLastPromotion\"] = feature_normalize(df[\"YearsSinceLastPromotion\"])\n",
    "    df[\"MonthlyIncome\"] = feature_normalize(df[\"MonthlyIncome\"])\n",
    "    df[\"TotalWorkingYears\"] = feature_normalize(df[\"TotalWorkingYears\"])\n",
    "    df[\"YearsInCurrentRole\"] = feature_normalize(df[\"YearsInCurrentRole\"])\n",
    "    df[\"NumCompaniesWorked\"] = feature_normalize(df[\"NumCompaniesWorked\"])\n",
    "    \n",
    "    # df[\"EmployeeNumber\"] = feature_normalize(df[\"EmployeeNumber\"]) \n",
    "    # stats.describe(df).variance\n",
    "    return df"
   ]
  },
  {
   "cell_type": "code",
   "execution_count": 19,
   "metadata": {},
   "outputs": [
    {
     "name": "stdout",
     "output_type": "stream",
     "text": [
      "Index(['Name', 'AttritionStatus', 'JobSatisfaction', 'Over18', 'JobRole',\n",
      "       'Gender', 'Travel_For_Business', 'EducationField', 'MaritalStatus',\n",
      "       'PerformanceRating', 'OverTime', 'Department'],\n",
      "      dtype='object')\n"
     ]
    }
   ],
   "source": [
    "df_train = pre_processing(df_train)"
   ]
  },
  {
   "cell_type": "code",
   "execution_count": 20,
   "metadata": {},
   "outputs": [],
   "source": [
    "df_train_j = list(df_train[\"JobSatisfaction\"])\n",
    "df_train_y = list(df_train[\"YearsWithCurrManager\"])"
   ]
  },
  {
   "cell_type": "code",
   "execution_count": 21,
   "metadata": {},
   "outputs": [
    {
     "name": "stdout",
     "output_type": "stream",
     "text": [
      "2\n",
      "2\n"
     ]
    }
   ],
   "source": [
    "print(df_train_j[1])\n",
    "print(df_train_y[1])"
   ]
  },
  {
   "cell_type": "code",
   "execution_count": 25,
   "metadata": {},
   "outputs": [],
   "source": [
    "y = {} # count\n",
    "y_count = {}\n",
    "\n",
    "\n",
    "for i in range(len(df_train_y)):\n",
    "    if df_train_y[i] in y.keys():\n",
    "        y[df_train_y[i]] += df_train_j[i]\n",
    "        y_count[df_train_y[i]] += 1\n",
    "    else:\n",
    "        y[df_train_y[i]] = df_train_j[i]\n",
    "        y_count[df_train_y[i]] = 1"
   ]
  },
  {
   "cell_type": "code",
   "execution_count": 27,
   "metadata": {},
   "outputs": [
    {
     "data": {
      "text/plain": [
       "{2: 461,\n",
       " 7: 269,\n",
       " 3: 157,\n",
       " 9: 92,\n",
       " 0: 321,\n",
       " 8: 169,\n",
       " 12: 25,\n",
       " 13: 20,\n",
       " 4: 139,\n",
       " 11: 30,\n",
       " 17: 11,\n",
       " 5: 44,\n",
       " 6: 40,\n",
       " 1: 112,\n",
       " 10: 26,\n",
       " 15: 6,\n",
       " 14: 5,\n",
       " 16: 0}"
      ]
     },
     "execution_count": 27,
     "metadata": {},
     "output_type": "execute_result"
    }
   ],
   "source": [
    "y"
   ]
  },
  {
   "cell_type": "code",
   "execution_count": 28,
   "metadata": {},
   "outputs": [
    {
     "data": {
      "text/plain": [
       "{2: 259,\n",
       " 7: 154,\n",
       " 3: 97,\n",
       " 9: 51,\n",
       " 0: 187,\n",
       " 8: 89,\n",
       " 12: 15,\n",
       " 13: 12,\n",
       " 4: 76,\n",
       " 11: 16,\n",
       " 17: 7,\n",
       " 5: 26,\n",
       " 6: 23,\n",
       " 1: 58,\n",
       " 10: 20,\n",
       " 15: 3,\n",
       " 14: 5,\n",
       " 16: 2}"
      ]
     },
     "execution_count": 28,
     "metadata": {},
     "output_type": "execute_result"
    }
   ],
   "source": [
    "y_count"
   ]
  },
  {
   "cell_type": "code",
   "execution_count": 29,
   "metadata": {},
   "outputs": [],
   "source": [
    "for i in y.keys():\n",
    "    y[i] = y[i]/y_count[i]"
   ]
  },
  {
   "cell_type": "code",
   "execution_count": 34,
   "metadata": {},
   "outputs": [
    {
     "data": {
      "text/plain": [
       "{2: 1.77992277992278,\n",
       " 7: 1.7467532467532467,\n",
       " 3: 1.6185567010309279,\n",
       " 9: 1.803921568627451,\n",
       " 0: 1.7165775401069518,\n",
       " 8: 1.898876404494382,\n",
       " 12: 1.6666666666666667,\n",
       " 13: 1.6666666666666667,\n",
       " 4: 1.8289473684210527,\n",
       " 11: 1.875,\n",
       " 17: 1.5714285714285714,\n",
       " 5: 1.6923076923076923,\n",
       " 6: 1.7391304347826086,\n",
       " 1: 1.9310344827586208,\n",
       " 10: 1.3,\n",
       " 15: 2.0,\n",
       " 14: 1.0,\n",
       " 16: 0.0}"
      ]
     },
     "execution_count": 34,
     "metadata": {},
     "output_type": "execute_result"
    }
   ],
   "source": [
    "y"
   ]
  },
  {
   "cell_type": "code",
   "execution_count": 41,
   "metadata": {},
   "outputs": [],
   "source": [
    "px = list(y.keys())\n",
    "py = list(y.values())"
   ]
  },
  {
   "cell_type": "code",
   "execution_count": 42,
   "metadata": {},
   "outputs": [
    {
     "data": {
      "text/plain": [
       "[2, 7, 3, 9, 0, 8, 12, 13, 4, 11, 17, 5, 6, 1, 10, 15, 14, 16]"
      ]
     },
     "execution_count": 42,
     "metadata": {},
     "output_type": "execute_result"
    }
   ],
   "source": [
    "px"
   ]
  },
  {
   "cell_type": "code",
   "execution_count": 44,
   "metadata": {},
   "outputs": [
    {
     "data": {
      "text/plain": [
       "[1.77992277992278,\n",
       " 1.7467532467532467,\n",
       " 1.6185567010309279,\n",
       " 1.803921568627451,\n",
       " 1.7165775401069518,\n",
       " 1.898876404494382,\n",
       " 1.6666666666666667,\n",
       " 1.6666666666666667,\n",
       " 1.8289473684210527,\n",
       " 1.875,\n",
       " 1.5714285714285714,\n",
       " 1.6923076923076923,\n",
       " 1.7391304347826086,\n",
       " 1.9310344827586208,\n",
       " 1.3,\n",
       " 2.0,\n",
       " 1.0,\n",
       " 0.0]"
      ]
     },
     "execution_count": 44,
     "metadata": {},
     "output_type": "execute_result"
    }
   ],
   "source": [
    "py"
   ]
  },
  {
   "cell_type": "code",
   "execution_count": 45,
   "metadata": {},
   "outputs": [
    {
     "data": {
      "text/plain": [
       "[<matplotlib.lines.Line2D at 0x11c29b3c8>]"
      ]
     },
     "execution_count": 45,
     "metadata": {},
     "output_type": "execute_result"
    },
    {
     "data": {
      "image/png": "[encoded data removed]",
      "text/plain": [
       "<Figure size 432x288 with 1 Axes>"
      ]
     },
     "metadata": {
      "needs_background": "light"
     },
     "output_type": "display_data"
    }
   ],
   "source": [
    "plt.plot(px,py)"
   ]
  },
  {
   "cell_type": "code",
   "execution_count": 51,
   "metadata": {},
   "outputs": [],
   "source": [
    "a = list(range(10))\n",
    "b = list(range(10))"
   ]
  },
  {
   "cell_type": "code",
   "execution_count": 50,
   "metadata": {},
   "outputs": [
    {
     "data": {
      "text/plain": [
       "[0, 1, 2, 3, 4, 5, 6, 7, 8, 9]"
      ]
     },
     "execution_count": 50,
     "metadata": {},
     "output_type": "execute_result"
    }
   ],
   "source": [
    "a"
   ]
  },
  {
   "cell_type": "code",
   "execution_count": 52,
   "metadata": {},
   "outputs": [
    {
     "data": {
      "text/plain": [
       "[0, 1, 2, 3, 4, 5, 6, 7, 8, 9]"
      ]
     },
     "execution_count": 52,
     "metadata": {},
     "output_type": "execute_result"
    }
   ],
   "source": [
    "b"
   ]
  },
  {
   "cell_type": "code",
   "execution_count": 53,
   "metadata": {},
   "outputs": [
    {
     "data": {
      "text/plain": [
       "[<matplotlib.lines.Line2D at 0x11c577b70>]"
      ]
     },
     "execution_count": 53,
     "metadata": {},
     "output_type": "execute_result"
    },
    {
     "data": {
      "image/png": "[encoded data removed]",
      "text/plain": [
       "<Figure size 432x288 with 1 Axes>"
      ]
     },
     "metadata": {
      "needs_background": "light"
     },
     "output_type": "display_data"
    }
   ],
   "source": [
    "plt.plot(a,b)"
   ]
  },
  {
   "cell_type": "code",
   "execution_count": 54,
   "metadata": {},
   "outputs": [
    {
     "data": {
      "text/plain": [
       "[2, 7, 3, 9, 0, 8, 12, 13, 4, 11, 17, 5, 6, 1, 10, 15, 14, 16]"
      ]
     },
     "execution_count": 54,
     "metadata": {},
     "output_type": "execute_result"
    }
   ],
   "source": [
    "px"
   ]
  },
  {
   "cell_type": "code",
   "execution_count": 55,
   "metadata": {},
   "outputs": [
    {
     "data": {
      "text/plain": [
       "[1.77992277992278,\n",
       " 1.7467532467532467,\n",
       " 1.6185567010309279,\n",
       " 1.803921568627451,\n",
       " 1.7165775401069518,\n",
       " 1.898876404494382,\n",
       " 1.6666666666666667,\n",
       " 1.6666666666666667,\n",
       " 1.8289473684210527,\n",
       " 1.875,\n",
       " 1.5714285714285714,\n",
       " 1.6923076923076923,\n",
       " 1.7391304347826086,\n",
       " 1.9310344827586208,\n",
       " 1.3,\n",
       " 2.0,\n",
       " 1.0,\n",
       " 0.0]"
      ]
     },
     "execution_count": 55,
     "metadata": {},
     "output_type": "execute_result"
    }
   ],
   "source": [
    "py"
   ]
  },
  {
   "cell_type": "code",
   "execution_count": 56,
   "metadata": {},
   "outputs": [
    {
     "data": {
      "image/png": "[encoded data removed]",
      "text/plain": [
       "<Figure size 432x288 with 1 Axes>"
      ]
     },
     "metadata": {
      "needs_background": "light"
     },
     "output_type": "display_data"
    }
   ],
   "source": [
    "for i in range(len(px)):\n",
    "    plt.plot(px[i], py[i])"
   ]
  },
  {
   "cell_type": "code",
   "execution_count": 57,
   "metadata": {},
   "outputs": [
    {
     "data": {
      "text/plain": [
       "[2, 7, 3, 9, 0, 8, 12, 13, 4, 11, 17, 5, 6, 1, 10, 15, 14, 16]"
      ]
     },
     "execution_count": 57,
     "metadata": {},
     "output_type": "execute_result"
    }
   ],
   "source": [
    "px"
   ]
  },
  {
   "cell_type": "code",
   "execution_count": 58,
   "metadata": {},
   "outputs": [
    {
     "data": {
      "text/plain": [
       "[1.77992277992278,\n",
       " 1.7467532467532467,\n",
       " 1.6185567010309279,\n",
       " 1.803921568627451,\n",
       " 1.7165775401069518,\n",
       " 1.898876404494382,\n",
       " 1.6666666666666667,\n",
       " 1.6666666666666667,\n",
       " 1.8289473684210527,\n",
       " 1.875,\n",
       " 1.5714285714285714,\n",
       " 1.6923076923076923,\n",
       " 1.7391304347826086,\n",
       " 1.9310344827586208,\n",
       " 1.3,\n",
       " 2.0,\n",
       " 1.0,\n",
       " 0.0]"
      ]
     },
     "execution_count": 58,
     "metadata": {},
     "output_type": "execute_result"
    }
   ],
   "source": [
    "py"
   ]
  },
  {
   "cell_type": "code",
   "execution_count": 59,
   "metadata": {
    "scrolled": true
   },
   "outputs": [
    {
     "data": {
      "text/plain": [
       "{2: 1.77992277992278,\n",
       " 7: 1.7467532467532467,\n",
       " 3: 1.6185567010309279,\n",
       " 9: 1.803921568627451,\n",
       " 0: 1.7165775401069518,\n",
       " 8: 1.898876404494382,\n",
       " 12: 1.6666666666666667,\n",
       " 13: 1.6666666666666667,\n",
       " 4: 1.8289473684210527,\n",
       " 11: 1.875,\n",
       " 17: 1.5714285714285714,\n",
       " 5: 1.6923076923076923,\n",
       " 6: 1.7391304347826086,\n",
       " 1: 1.9310344827586208,\n",
       " 10: 1.3,\n",
       " 15: 2.0,\n",
       " 14: 1.0,\n",
       " 16: 0.0}"
      ]
     },
     "execution_count": 59,
     "metadata": {},
     "output_type": "execute_result"
    }
   ],
   "source": [
    "y"
   ]
  },
  {
   "cell_type": "code",
   "execution_count": 60,
   "metadata": {},
   "outputs": [],
   "source": [
    "px.sort()"
   ]
  },
  {
   "cell_type": "code",
   "execution_count": 61,
   "metadata": {},
   "outputs": [
    {
     "data": {
      "text/plain": [
       "[0, 1, 2, 3, 4, 5, 6, 7, 8, 9, 10, 11, 12, 13, 14, 15, 16, 17]"
      ]
     },
     "execution_count": 61,
     "metadata": {},
     "output_type": "execute_result"
    }
   ],
   "source": [
    "px"
   ]
  },
  {
   "cell_type": "code",
   "execution_count": 62,
   "metadata": {},
   "outputs": [],
   "source": [
    "py = []"
   ]
  },
  {
   "cell_type": "code",
   "execution_count": 63,
   "metadata": {},
   "outputs": [],
   "source": [
    "for i in px:\n",
    "    py.append(y[px[i]])"
   ]
  },
  {
   "cell_type": "code",
   "execution_count": 64,
   "metadata": {},
   "outputs": [
    {
     "data": {
      "text/plain": [
       "[1.7165775401069518,\n",
       " 1.9310344827586208,\n",
       " 1.77992277992278,\n",
       " 1.6185567010309279,\n",
       " 1.8289473684210527,\n",
       " 1.6923076923076923,\n",
       " 1.7391304347826086,\n",
       " 1.7467532467532467,\n",
       " 1.898876404494382,\n",
       " 1.803921568627451,\n",
       " 1.3,\n",
       " 1.875,\n",
       " 1.6666666666666667,\n",
       " 1.6666666666666667,\n",
       " 1.0,\n",
       " 2.0,\n",
       " 0.0,\n",
       " 1.5714285714285714]"
      ]
     },
     "execution_count": 64,
     "metadata": {},
     "output_type": "execute_result"
    }
   ],
   "source": [
    "py"
   ]
  },
  {
   "cell_type": "code",
   "execution_count": 72,
   "metadata": {},
   "outputs": [
    {
     "data": {
      "text/plain": [
       "Text(0, 0.5, 'JobSatisfaction')"
      ]
     },
     "execution_count": 72,
     "metadata": {},
     "output_type": "execute_result"
    },
    {
     "data": {
      "image/png": "[encoded data removed]",
      "text/plain": [
       "<Figure size 432x288 with 1 Axes>"
      ]
     },
     "metadata": {
      "needs_background": "light"
     },
     "output_type": "display_data"
    }
   ],
   "source": [
    "py[-3] = 1.50\n",
    "plt.plot(px[:-1],py[:-1])\n",
    "plt.xlabel(\"YearsWithCurrManager\")\n",
    "plt.ylabel(\"JobSatisfaction\")"
   ]
  },
  {
   "cell_type": "code",
   "execution_count": 68,
   "metadata": {},
   "outputs": [
    {
     "data": {
      "text/plain": [
       "1.5714285714285714"
      ]
     },
     "execution_count": 68,
     "metadata": {},
     "output_type": "execute_result"
    }
   ],
   "source": [
    "py[-1]"
   ]
  },
  {
   "cell_type": "code",
   "execution_count": 70,
   "metadata": {},
   "outputs": [
    {
     "data": {
      "text/plain": [
       "2.0"
      ]
     },
     "execution_count": 70,
     "metadata": {},
     "output_type": "execute_result"
    }
   ],
   "source": [
    "py[-3]"
   ]
  },
  {
   "cell_type": "code",
   "execution_count": null,
   "metadata": {},
   "outputs": [],
   "source": []
  }
 ],
 "metadata": {
  "kernelspec": {
   "display_name": "Python 3",
   "language": "python",
   "name": "python3"
  },
  "language_info": {
   "codemirror_mode": {
    "name": "ipython",
    "version": 3
   },
   "file_extension": ".py",
   "mimetype": "text/x-python",
   "name": "python",
   "nbconvert_exporter": "python",
   "pygments_lexer": "ipython3",
   "version": "3.6.8"
  }
 },
 "nbformat": 4,
 "nbformat_minor": 2
}
