{
 "cells": [
  {
   "cell_type": "code",
   "execution_count": 1,
   "metadata": {
    "_cell_guid": "b1076dfc-b9ad-4769-8c92-a6c4dae69d19",
    "_uuid": "8f2839f25d086af736a60e9eeb907d3b93b6e0e5"
   },
   "outputs": [
    {
     "name": "stdout",
     "output_type": "stream",
     "text": [
      "['train.csv', 'sample_submission.csv', 'test.csv']\n"
     ]
    }
   ],
   "source": [
    "# This Python 3 environment comes with many helpful analytics libraries installed\n",
    "# It is defined by the kaggle/python docker image: https://github.com/kaggle/docker-python\n",
    "# For example, here's several helpful packages to load in \n",
    "\n",
    "import numpy as np # linear algebra\n",
    "import pandas as pd # data processing, CSV file I/O (e.g. pd.read_csv)\n",
    "import tensorflow as tf\n",
    "\n",
    "# Input data files are available in the \"../input/\" directory.\n",
    "# For example, running this (by clicking run or pressing Shift+Enter) will list the files in the input directory\n",
    "\n",
    "import os\n",
    "print(os.listdir(\"../input\"))\n",
    "\n",
    "# Any results you write to the current directory are saved as output."
   ]
  },
  {
   "cell_type": "code",
   "execution_count": 2,
   "metadata": {
    "_cell_guid": "79c7e3d0-c299-4dcb-8224-4455121ee9b0",
    "_uuid": "d629ff2d2480ee46fbb7e2d37f6b5fab8052498a"
   },
   "outputs": [],
   "source": [
    "train_orig = pd.read_csv('../input/train.csv')\n",
    "test_orig = pd.read_csv('../input/test.csv')"
   ]
  },
  {
   "cell_type": "code",
   "execution_count": 3,
   "metadata": {},
   "outputs": [],
   "source": [
    "train_data = train_orig.drop(columns = [\"label\"], axis = 1)\n",
    "train_data = 1.0*train_data / 255 # normalization\n",
    "train_label = train_orig[\"label\"]\n",
    "# X_train, X_val, Y_train, Y_val = train_test_split(train_data, train_label, test_size = 0.1, random_state = 2)\n",
    "test_data = 1.0*test_orig / 255"
   ]
  },
  {
   "cell_type": "code",
   "execution_count": 4,
   "metadata": {},
   "outputs": [
    {
     "data": {
      "text/plain": [
       "1"
      ]
     },
     "execution_count": 4,
     "metadata": {},
     "output_type": "execute_result"
    }
   ],
   "source": [
    "train_label[0]"
   ]
  },
  {
   "cell_type": "code",
   "execution_count": 5,
   "metadata": {},
   "outputs": [],
   "source": [
    "train_data = train_data.values.reshape(-1,28,28,1)\n",
    "test_data = test_data.values.reshape(-1,28,28,1)"
   ]
  },
  {
   "cell_type": "code",
   "execution_count": 6,
   "metadata": {},
   "outputs": [
    {
     "name": "stdout",
     "output_type": "stream",
     "text": [
      "WARNING:tensorflow:From /opt/conda/lib/python3.6/site-packages/tensorflow/python/ops/resource_variable_ops.py:435: colocate_with (from tensorflow.python.framework.ops) is deprecated and will be removed in a future version.\n",
      "Instructions for updating:\n",
      "Colocations handled automatically by placer.\n",
      "WARNING:tensorflow:From /opt/conda/lib/python3.6/site-packages/tensorflow/python/keras/layers/core.py:143: calling dropout (from tensorflow.python.ops.nn_ops) with keep_prob is deprecated and will be removed in a future version.\n",
      "Instructions for updating:\n",
      "Please use `rate` instead of `keep_prob`. Rate should be set to `rate = 1 - keep_prob`.\n"
     ]
    }
   ],
   "source": [
    "model = tf.keras.Sequential([\n",
    "    tf.keras.layers.Conv2D(64, (3,3), activation = \"relu\", input_shape = (28,28,1), padding = \"same\"),\n",
    "    tf.keras.layers.MaxPooling2D(2,2),\n",
    "    tf.keras.layers.Dropout(rate = 0.25),\n",
    "    tf.keras.layers.Conv2D(64, (3,3), activation = \"relu\", padding = \"same\"),\n",
    "    tf.keras.layers.MaxPooling2D(2,2),\n",
    "    tf.keras.layers.Dropout(rate = 0.25),\n",
    "    tf.keras.layers.Flatten(),\n",
    "    tf.keras.layers.Dense(512, activation = \"relu\"),\n",
    "    tf.keras.layers.Dropout(rate = 0.25),\n",
    "    tf.keras.layers.Dense(10, activation = \"softmax\")\n",
    "])"
   ]
  },
  {
   "cell_type": "code",
   "execution_count": 7,
   "metadata": {},
   "outputs": [
    {
     "name": "stdout",
     "output_type": "stream",
     "text": [
      "_________________________________________________________________\n",
      "Layer (type)                 Output Shape              Param #   \n",
      "=================================================================\n",
      "conv2d (Conv2D)              (None, 28, 28, 64)        640       \n",
      "_________________________________________________________________\n",
      "max_pooling2d (MaxPooling2D) (None, 14, 14, 64)        0         \n",
      "_________________________________________________________________\n",
      "dropout (Dropout)            (None, 14, 14, 64)        0         \n",
      "_________________________________________________________________\n",
      "conv2d_1 (Conv2D)            (None, 14, 14, 64)        36928     \n",
      "_________________________________________________________________\n",
      "max_pooling2d_1 (MaxPooling2 (None, 7, 7, 64)          0         \n",
      "_________________________________________________________________\n",
      "dropout_1 (Dropout)          (None, 7, 7, 64)          0         \n",
      "_________________________________________________________________\n",
      "flatten (Flatten)            (None, 3136)              0         \n",
      "_________________________________________________________________\n",
      "dense (Dense)                (None, 512)               1606144   \n",
      "_________________________________________________________________\n",
      "dropout_2 (Dropout)          (None, 512)               0         \n",
      "_________________________________________________________________\n",
      "dense_1 (Dense)              (None, 10)                5130      \n",
      "=================================================================\n",
      "Total params: 1,648,842\n",
      "Trainable params: 1,648,842\n",
      "Non-trainable params: 0\n",
      "_________________________________________________________________\n"
     ]
    }
   ],
   "source": [
    "model.summary()"
   ]
  },
  {
   "cell_type": "code",
   "execution_count": 8,
   "metadata": {},
   "outputs": [],
   "source": [
    "model.compile(optimizer='adam', loss = \"sparse_categorical_crossentropy\", metrics = [\"accuracy\"])"
   ]
  },
  {
   "cell_type": "code",
   "execution_count": 9,
   "metadata": {},
   "outputs": [
    {
     "name": "stdout",
     "output_type": "stream",
     "text": [
      "Train on 37800 samples, validate on 4200 samples\n",
      "Epoch 1/100\n",
      "37800/37800 [==============================] - 7s 179us/sample - loss: 0.2115 - acc: 0.9338 - val_loss: 0.0532 - val_acc: 0.9826\n",
      "Epoch 2/100\n",
      "37800/37800 [==============================] - 4s 102us/sample - loss: 0.0649 - acc: 0.9795 - val_loss: 0.0500 - val_acc: 0.9821\n",
      "Epoch 3/100\n",
      "37800/37800 [==============================] - 4s 102us/sample - loss: 0.0450 - acc: 0.9860 - val_loss: 0.0439 - val_acc: 0.9840\n",
      "Epoch 4/100\n",
      "37800/37800 [==============================] - 4s 102us/sample - loss: 0.0364 - acc: 0.9885 - val_loss: 0.0289 - val_acc: 0.9895\n",
      "Epoch 5/100\n",
      "37800/37800 [==============================] - 4s 102us/sample - loss: 0.0310 - acc: 0.9890 - val_loss: 0.0334 - val_acc: 0.9895\n",
      "Epoch 6/100\n",
      "37800/37800 [==============================] - 4s 102us/sample - loss: 0.0255 - acc: 0.9917 - val_loss: 0.0403 - val_acc: 0.9869\n",
      "Epoch 7/100\n",
      "37800/37800 [==============================] - 4s 102us/sample - loss: 0.0239 - acc: 0.9920 - val_loss: 0.0310 - val_acc: 0.9895\n",
      "Epoch 8/100\n",
      "37800/37800 [==============================] - 4s 102us/sample - loss: 0.0203 - acc: 0.9933 - val_loss: 0.0265 - val_acc: 0.9910\n",
      "Epoch 9/100\n",
      "37800/37800 [==============================] - 4s 102us/sample - loss: 0.0165 - acc: 0.9945 - val_loss: 0.0259 - val_acc: 0.9919\n",
      "Epoch 10/100\n",
      "37800/37800 [==============================] - 4s 103us/sample - loss: 0.0147 - acc: 0.9948 - val_loss: 0.0321 - val_acc: 0.9919\n",
      "Epoch 11/100\n",
      "37800/37800 [==============================] - 4s 103us/sample - loss: 0.0147 - acc: 0.9953 - val_loss: 0.0318 - val_acc: 0.9902\n",
      "Epoch 12/100\n",
      "37800/37800 [==============================] - 4s 109us/sample - loss: 0.0144 - acc: 0.9948 - val_loss: 0.0337 - val_acc: 0.9919\n",
      "Epoch 13/100\n",
      "37800/37800 [==============================] - 4s 110us/sample - loss: 0.0155 - acc: 0.9947 - val_loss: 0.0295 - val_acc: 0.9914\n",
      "Epoch 14/100\n",
      "37800/37800 [==============================] - 4s 105us/sample - loss: 0.0124 - acc: 0.9963 - val_loss: 0.0321 - val_acc: 0.9914\n",
      "Epoch 15/100\n",
      "37800/37800 [==============================] - 4s 102us/sample - loss: 0.0129 - acc: 0.9960 - val_loss: 0.0280 - val_acc: 0.9917\n",
      "Epoch 16/100\n",
      "37800/37800 [==============================] - 4s 101us/sample - loss: 0.0103 - acc: 0.9966 - val_loss: 0.0264 - val_acc: 0.9926\n",
      "Epoch 17/100\n",
      "37800/37800 [==============================] - 4s 105us/sample - loss: 0.0105 - acc: 0.9967 - val_loss: 0.0286 - val_acc: 0.9921\n",
      "Epoch 18/100\n",
      "37800/37800 [==============================] - 4s 112us/sample - loss: 0.0098 - acc: 0.9968 - val_loss: 0.0309 - val_acc: 0.9924\n",
      "Epoch 19/100\n",
      "37800/37800 [==============================] - 4s 112us/sample - loss: 0.0101 - acc: 0.9965 - val_loss: 0.0352 - val_acc: 0.9905\n",
      "Epoch 20/100\n",
      "37800/37800 [==============================] - 4s 103us/sample - loss: 0.0107 - acc: 0.9963 - val_loss: 0.0435 - val_acc: 0.9893\n",
      "Epoch 21/100\n",
      "37800/37800 [==============================] - 4s 101us/sample - loss: 0.0080 - acc: 0.9975 - val_loss: 0.0315 - val_acc: 0.9924\n",
      "Epoch 22/100\n",
      "37800/37800 [==============================] - 4s 107us/sample - loss: 0.0072 - acc: 0.9975 - val_loss: 0.0303 - val_acc: 0.9936\n",
      "Epoch 23/100\n",
      "37800/37800 [==============================] - 4s 109us/sample - loss: 0.0083 - acc: 0.9975 - val_loss: 0.0249 - val_acc: 0.9936\n",
      "Epoch 24/100\n",
      "37800/37800 [==============================] - 4s 102us/sample - loss: 0.0080 - acc: 0.9978 - val_loss: 0.0420 - val_acc: 0.9907\n",
      "Epoch 25/100\n",
      "37800/37800 [==============================] - 4s 102us/sample - loss: 0.0089 - acc: 0.9973 - val_loss: 0.0400 - val_acc: 0.9898\n",
      "Epoch 26/100\n",
      "37800/37800 [==============================] - 4s 101us/sample - loss: 0.0064 - acc: 0.9981 - val_loss: 0.0424 - val_acc: 0.9907\n",
      "Epoch 27/100\n",
      "37800/37800 [==============================] - 4s 101us/sample - loss: 0.0087 - acc: 0.9974 - val_loss: 0.0415 - val_acc: 0.9912\n",
      "Epoch 28/100\n",
      "37800/37800 [==============================] - 4s 102us/sample - loss: 0.0075 - acc: 0.9975 - val_loss: 0.0468 - val_acc: 0.9912\n",
      "Epoch 29/100\n",
      "37800/37800 [==============================] - 4s 103us/sample - loss: 0.0078 - acc: 0.9977 - val_loss: 0.0310 - val_acc: 0.9929\n",
      "Epoch 30/100\n",
      "37800/37800 [==============================] - 4s 102us/sample - loss: 0.0070 - acc: 0.9979 - val_loss: 0.0420 - val_acc: 0.9921\n",
      "Epoch 31/100\n",
      "37800/37800 [==============================] - 4s 101us/sample - loss: 0.0078 - acc: 0.9976 - val_loss: 0.0425 - val_acc: 0.9924\n",
      "Epoch 32/100\n",
      "37800/37800 [==============================] - 4s 108us/sample - loss: 0.0087 - acc: 0.9976 - val_loss: 0.0455 - val_acc: 0.9917\n",
      "Epoch 33/100\n",
      "37800/37800 [==============================] - 4s 110us/sample - loss: 0.0064 - acc: 0.9981 - val_loss: 0.0358 - val_acc: 0.9914\n",
      "Epoch 34/100\n",
      "37800/37800 [==============================] - 4s 106us/sample - loss: 0.0068 - acc: 0.9978 - val_loss: 0.0425 - val_acc: 0.9919\n",
      "Epoch 35/100\n",
      "37800/37800 [==============================] - 4s 101us/sample - loss: 0.0057 - acc: 0.9983 - val_loss: 0.0425 - val_acc: 0.9921\n",
      "Epoch 36/100\n",
      "37800/37800 [==============================] - 4s 101us/sample - loss: 0.0067 - acc: 0.9979 - val_loss: 0.0421 - val_acc: 0.9917\n",
      "Epoch 37/100\n",
      "37800/37800 [==============================] - 4s 102us/sample - loss: 0.0058 - acc: 0.9984 - val_loss: 0.0387 - val_acc: 0.9926\n",
      "Epoch 38/100\n",
      "37800/37800 [==============================] - 4s 102us/sample - loss: 0.0065 - acc: 0.9984 - val_loss: 0.0417 - val_acc: 0.9917\n",
      "Epoch 39/100\n",
      "37800/37800 [==============================] - 4s 102us/sample - loss: 0.0058 - acc: 0.9985 - val_loss: 0.0443 - val_acc: 0.9921\n",
      "Epoch 40/100\n",
      "37800/37800 [==============================] - 4s 102us/sample - loss: 0.0077 - acc: 0.9980 - val_loss: 0.0421 - val_acc: 0.9919\n",
      "Epoch 41/100\n",
      "37800/37800 [==============================] - 4s 102us/sample - loss: 0.0068 - acc: 0.9977 - val_loss: 0.0470 - val_acc: 0.9929\n",
      "Epoch 42/100\n",
      "37800/37800 [==============================] - 4s 101us/sample - loss: 0.0059 - acc: 0.9984 - val_loss: 0.0435 - val_acc: 0.9929\n",
      "Epoch 43/100\n",
      "37800/37800 [==============================] - 4s 102us/sample - loss: 0.0063 - acc: 0.9981 - val_loss: 0.0365 - val_acc: 0.9921\n",
      "Epoch 44/100\n",
      "37800/37800 [==============================] - 4s 102us/sample - loss: 0.0077 - acc: 0.9979 - val_loss: 0.0383 - val_acc: 0.9931\n",
      "Epoch 45/100\n",
      "37800/37800 [==============================] - 4s 102us/sample - loss: 0.0054 - acc: 0.9983 - val_loss: 0.0410 - val_acc: 0.9929\n",
      "Epoch 46/100\n",
      "37800/37800 [==============================] - 4s 102us/sample - loss: 0.0064 - acc: 0.9985 - val_loss: 0.0414 - val_acc: 0.9921\n",
      "Epoch 47/100\n",
      "37800/37800 [==============================] - 4s 102us/sample - loss: 0.0079 - acc: 0.9978 - val_loss: 0.0517 - val_acc: 0.9929\n",
      "Epoch 48/100\n",
      "37800/37800 [==============================] - 4s 102us/sample - loss: 0.0048 - acc: 0.9984 - val_loss: 0.0520 - val_acc: 0.9929\n",
      "Epoch 49/100\n",
      "37800/37800 [==============================] - 4s 102us/sample - loss: 0.0046 - acc: 0.9990 - val_loss: 0.0536 - val_acc: 0.9919\n",
      "Epoch 50/100\n",
      "37800/37800 [==============================] - 4s 102us/sample - loss: 0.0056 - acc: 0.9983 - val_loss: 0.0450 - val_acc: 0.9924\n",
      "Epoch 51/100\n",
      "37800/37800 [==============================] - 4s 102us/sample - loss: 0.0072 - acc: 0.9981 - val_loss: 0.0566 - val_acc: 0.9917\n",
      "Epoch 52/100\n",
      "37800/37800 [==============================] - 4s 102us/sample - loss: 0.0068 - acc: 0.9985 - val_loss: 0.0521 - val_acc: 0.9924\n",
      "Epoch 53/100\n",
      "37800/37800 [==============================] - 4s 110us/sample - loss: 0.0048 - acc: 0.9987 - val_loss: 0.0519 - val_acc: 0.9921\n",
      "Epoch 54/100\n",
      "37800/37800 [==============================] - 4s 109us/sample - loss: 0.0051 - acc: 0.9987 - val_loss: 0.0484 - val_acc: 0.9933\n",
      "Epoch 55/100\n",
      "37800/37800 [==============================] - 4s 104us/sample - loss: 0.0067 - acc: 0.9984 - val_loss: 0.0726 - val_acc: 0.9910\n",
      "Epoch 56/100\n",
      "37800/37800 [==============================] - 4s 102us/sample - loss: 0.0060 - acc: 0.9983 - val_loss: 0.0548 - val_acc: 0.9900\n",
      "Epoch 57/100\n",
      "37800/37800 [==============================] - 4s 101us/sample - loss: 0.0065 - acc: 0.9984 - val_loss: 0.0534 - val_acc: 0.9919\n",
      "Epoch 58/100\n",
      "37800/37800 [==============================] - 4s 101us/sample - loss: 0.0057 - acc: 0.9985 - val_loss: 0.0572 - val_acc: 0.9924\n",
      "Epoch 59/100\n",
      "37800/37800 [==============================] - 4s 102us/sample - loss: 0.0056 - acc: 0.9982 - val_loss: 0.0529 - val_acc: 0.9924\n",
      "Epoch 60/100\n",
      "37800/37800 [==============================] - 4s 102us/sample - loss: 0.0063 - acc: 0.9984 - val_loss: 0.0595 - val_acc: 0.9917\n",
      "Epoch 61/100\n",
      "37800/37800 [==============================] - 4s 102us/sample - loss: 0.0037 - acc: 0.9989 - val_loss: 0.0478 - val_acc: 0.9933\n",
      "Epoch 62/100\n",
      "37800/37800 [==============================] - 4s 102us/sample - loss: 0.0054 - acc: 0.9986 - val_loss: 0.0494 - val_acc: 0.9933\n",
      "Epoch 63/100\n",
      "37800/37800 [==============================] - 4s 101us/sample - loss: 0.0047 - acc: 0.9987 - val_loss: 0.0437 - val_acc: 0.9933\n",
      "Epoch 64/100\n",
      "37800/37800 [==============================] - 4s 102us/sample - loss: 0.0061 - acc: 0.9987 - val_loss: 0.0485 - val_acc: 0.9914\n",
      "Epoch 65/100\n",
      "37800/37800 [==============================] - 4s 101us/sample - loss: 0.0039 - acc: 0.9990 - val_loss: 0.0520 - val_acc: 0.9917\n",
      "Epoch 66/100\n",
      "37800/37800 [==============================] - 4s 102us/sample - loss: 0.0035 - acc: 0.9990 - val_loss: 0.0553 - val_acc: 0.9936\n",
      "Epoch 67/100\n",
      "37800/37800 [==============================] - 4s 101us/sample - loss: 0.0051 - acc: 0.9987 - val_loss: 0.0584 - val_acc: 0.9931\n",
      "Epoch 68/100\n",
      "37800/37800 [==============================] - 4s 102us/sample - loss: 0.0059 - acc: 0.9985 - val_loss: 0.0520 - val_acc: 0.9929\n",
      "Epoch 69/100\n",
      "37800/37800 [==============================] - 4s 108us/sample - loss: 0.0060 - acc: 0.9984 - val_loss: 0.0657 - val_acc: 0.9912\n",
      "Epoch 70/100\n",
      "37800/37800 [==============================] - 4s 110us/sample - loss: 0.0058 - acc: 0.9988 - val_loss: 0.0508 - val_acc: 0.9924\n",
      "Epoch 71/100\n",
      "37800/37800 [==============================] - 4s 107us/sample - loss: 0.0047 - acc: 0.9988 - val_loss: 0.0525 - val_acc: 0.9924\n",
      "Epoch 72/100\n",
      "37800/37800 [==============================] - 4s 102us/sample - loss: 0.0068 - acc: 0.9985 - val_loss: 0.0480 - val_acc: 0.9926\n",
      "Epoch 73/100\n",
      "37800/37800 [==============================] - 4s 106us/sample - loss: 0.0060 - acc: 0.9987 - val_loss: 0.0439 - val_acc: 0.9910\n",
      "Epoch 74/100\n",
      "37800/37800 [==============================] - 4s 109us/sample - loss: 0.0052 - acc: 0.9986 - val_loss: 0.0498 - val_acc: 0.9931\n",
      "Epoch 75/100\n",
      "37800/37800 [==============================] - 4s 110us/sample - loss: 0.0061 - acc: 0.9987 - val_loss: 0.0632 - val_acc: 0.9917\n",
      "Epoch 76/100\n",
      "37800/37800 [==============================] - 4s 107us/sample - loss: 0.0050 - acc: 0.9989 - val_loss: 0.0505 - val_acc: 0.9921\n",
      "Epoch 77/100\n",
      "37800/37800 [==============================] - 4s 101us/sample - loss: 0.0050 - acc: 0.9987 - val_loss: 0.0491 - val_acc: 0.9929\n",
      "Epoch 78/100\n",
      "37800/37800 [==============================] - 4s 101us/sample - loss: 0.0040 - acc: 0.9990 - val_loss: 0.0587 - val_acc: 0.9917\n",
      "Epoch 79/100\n",
      "37800/37800 [==============================] - 4s 107us/sample - loss: 0.0052 - acc: 0.9987 - val_loss: 0.0524 - val_acc: 0.9936\n",
      "Epoch 80/100\n",
      "37800/37800 [==============================] - 4s 109us/sample - loss: 0.0068 - acc: 0.9984 - val_loss: 0.0741 - val_acc: 0.9919\n",
      "Epoch 81/100\n",
      "37800/37800 [==============================] - 4s 109us/sample - loss: 0.0049 - acc: 0.9988 - val_loss: 0.0589 - val_acc: 0.9917\n",
      "Epoch 82/100\n",
      "37800/37800 [==============================] - 4s 109us/sample - loss: 0.0050 - acc: 0.9989 - val_loss: 0.0576 - val_acc: 0.9926\n",
      "Epoch 83/100\n",
      "37800/37800 [==============================] - 4s 109us/sample - loss: 0.0037 - acc: 0.9991 - val_loss: 0.0630 - val_acc: 0.9924\n",
      "Epoch 84/100\n",
      "37800/37800 [==============================] - 4s 109us/sample - loss: 0.0080 - acc: 0.9985 - val_loss: 0.0840 - val_acc: 0.9893\n",
      "Epoch 85/100\n",
      "10304/37800 [=======>......................] - ETA: 2s - loss: 0.0044 - acc: 0.9989"
     ]
    }
   ],
   "source": [
    "history = model.fit(train_data, train_label, batch_size = 64, epochs = 100, validation_split = 0.1, verbose = 1)"
   ]
  },
  {
   "cell_type": "code",
   "execution_count": 10,
   "metadata": {},
   "outputs": [
    {
     "data": {
      "image/png": "[encoded data removed]",
      "text/plain": [
       "<Figure size 432x288 with 1 Axes>"
      ]
     },
     "metadata": {},
     "output_type": "display_data"
    }
   ],
   "source": [
    "import matplotlib.pyplot as plt\n",
    "\n",
    "plt.plot(history.history[\"acc\"])\n",
    "plt.plot(history.history[\"val_acc\"])\n",
    "plt.title(\"model accuracy\")\n",
    "plt.show()"
   ]
  },
  {
   "cell_type": "code",
   "execution_count": 11,
   "metadata": {},
   "outputs": [],
   "source": [
    "predict = model.predict(test_data)"
   ]
  },
  {
   "cell_type": "code",
   "execution_count": 12,
   "metadata": {},
   "outputs": [],
   "source": [
    "predict = np.argmax(predict, axis = 1)"
   ]
  },
  {
   "cell_type": "code",
   "execution_count": 13,
   "metadata": {},
   "outputs": [],
   "source": [
    "submission = pd.concat([pd.Series(range(1 ,28001) ,name = \"ImageId\"), pd.Series(predict, name=\"Label\")],axis = 1)"
   ]
  },
  {
   "cell_type": "code",
   "execution_count": 14,
   "metadata": {},
   "outputs": [],
   "source": [
    "submission.to_csv('submission.csv', index=False)"
   ]
  },
  {
   "cell_type": "code",
   "execution_count": 15,
   "metadata": {},
   "outputs": [
    {
     "data": {
      "text/html": [
       "<div>\n",
       "<style scoped>\n",
       "    .dataframe tbody tr th:only-of-type {\n",
       "        vertical-align: middle;\n",
       "    }\n",
       "\n",
       "    .dataframe tbody tr th {\n",
       "        vertical-align: top;\n",
       "    }\n",
       "\n",
       "    .dataframe thead th {\n",
       "        text-align: right;\n",
       "    }\n",
       "</style>\n",
       "<table border=\"1\" class=\"dataframe\">\n",
       "  <thead>\n",
       "    <tr style=\"text-align: right;\">\n",
       "      <th></th>\n",
       "      <th>ImageId</th>\n",
       "      <th>Label</th>\n",
       "    </tr>\n",
       "  </thead>\n",
       "  <tbody>\n",
       "    <tr>\n",
       "      <th>0</th>\n",
       "      <td>1</td>\n",
       "      <td>2</td>\n",
       "    </tr>\n",
       "    <tr>\n",
       "      <th>1</th>\n",
       "      <td>2</td>\n",
       "      <td>0</td>\n",
       "    </tr>\n",
       "    <tr>\n",
       "      <th>2</th>\n",
       "      <td>3</td>\n",
       "      <td>9</td>\n",
       "    </tr>\n",
       "    <tr>\n",
       "      <th>3</th>\n",
       "      <td>4</td>\n",
       "      <td>9</td>\n",
       "    </tr>\n",
       "    <tr>\n",
       "      <th>4</th>\n",
       "      <td>5</td>\n",
       "      <td>3</td>\n",
       "    </tr>\n",
       "  </tbody>\n",
       "</table>\n",
       "</div>"
      ],
      "text/plain": [
       "   ImageId  Label\n",
       "0        1      2\n",
       "1        2      0\n",
       "2        3      9\n",
       "3        4      9\n",
       "4        5      3"
      ]
     },
     "execution_count": 15,
     "metadata": {},
     "output_type": "execute_result"
    }
   ],
   "source": [
    "submission.head()"
   ]
  }
 ],
 "metadata": {
  "kernelspec": {
   "display_name": "Python 3",
   "language": "python",
   "name": "python3"
  },
  "language_info": {
   "codemirror_mode": {
    "name": "ipython",
    "version": 3
   },
   "file_extension": ".py",
   "mimetype": "text/x-python",
   "name": "python",
   "nbconvert_exporter": "python",
   "pygments_lexer": "ipython3",
   "version": "3.6.4"
  }
 },
 "nbformat": 4,
 "nbformat_minor": 1
}
